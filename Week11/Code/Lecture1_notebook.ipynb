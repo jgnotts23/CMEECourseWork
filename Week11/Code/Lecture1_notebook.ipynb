{
 "cells": [
  {
   "cell_type": "markdown",
   "metadata": {},
   "source": [
    "# Lecture 1 - Linear Models\n",
    "\n",
    "## Author - Jacob Griffiths, jacob.griffiths18@imperial.ac.uk\n",
    "\n",
    "### Date - Jan 2019"
   ]
  },
  {
   "cell_type": "markdown",
   "metadata": {},
   "source": [
    "## Useful equations\n",
    "Population variance:\n",
    "\\begin{equation*}\n",
    "\\sigma^2 = \\frac{\\displaystyle\\sum_{i=1}^{n}(x_i - \\mu)^2} {n}\n",
    "\\end{equation*}\n",
    "\n",
    "Sample variance:\n",
    "\\begin{equation*}\n",
    "s^2 = \\frac{\\displaystyle\\sum_{i=1}^{n}(x_i - \\bar{x})^2} {n - 1}\n",
    "\\end{equation*}\n",
    "\n",
    "If two variables are independent, the sum of their variances is equal to the variance of their sum. That is:\n",
    "\n",
    "\\begin{equation*}\n",
    "\\sigma^2_{A + B} = \\sigma^2_{A} + \\sigma^2_{B}\n",
    "\\end{equation*}\n",
    "\n",
    "If two variables are not independent, the variance of their sum is equal to the sum of their variances plus twice their covariance. That is:\n",
    "\n",
    "\\begin{equation*}\n",
    "\\sigma^2_{A + B} = \\sigma^2_{A} + \\sigma^2_{B} + 2COV_{A, B}\n",
    "\\end{equation*}\n",
    "\n",
    "A linear model with a continuous explanatory variable"
   ]
  },
  {
   "cell_type": "code",
   "execution_count": null,
   "metadata": {},
   "outputs": [],
   "source": []
  }
 ],
 "metadata": {
  "kernelspec": {
   "display_name": "R",
   "language": "R",
   "name": "ir"
  },
  "language_info": {
   "codemirror_mode": "r",
   "file_extension": ".r",
   "mimetype": "text/x-r-source",
   "name": "R",
   "pygments_lexer": "r",
   "version": "3.2.3"
  }
 },
 "nbformat": 4,
 "nbformat_minor": 2
}
