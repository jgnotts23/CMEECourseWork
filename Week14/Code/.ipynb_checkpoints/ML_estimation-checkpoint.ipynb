{
 "cells": [
  {
   "cell_type": "markdown",
   "metadata": {},
   "source": [
    "# Maximum Likelihood Estimation"
   ]
  },
  {
   "cell_type": "markdown",
   "metadata": {},
   "source": [
    "A probability question: given the coin is fair, what is the probability of tossing three heads in a row?\n",
    "A statistics question: I had three heads in a row, is the coin fair?"
   ]
  },
  {
   "cell_type": "markdown",
   "metadata": {},
   "source": [
    "Wright-Fisher model: predicting allele frequencies in next generation based on frequencies in current generation. Can also include migration rate."
   ]
  },
  {
   "cell_type": "markdown",
   "metadata": {},
   "source": [
    "Statistical inference:\n",
    "- Point estimation (estimating parameters of interest)\n",
    "- Interval estimation (95% confidence interval)\n",
    "- Hypothesis testing ($H_{0}$ vs $H_{1}$)"
   ]
  },
  {
   "cell_type": "markdown",
   "metadata": {},
   "source": [
    "Recommended reading: Maximum likelihood estimation and inference, Russell B. Millar"
   ]
  },
  {
   "cell_type": "markdown",
   "metadata": {},
   "source": [
    "A random variable is a variable who takes on its value by chance. A random variable can take on a set of possible values, each with an associated probability (can be discrete or continuous)."
   ]
  },
  {
   "cell_type": "markdown",
   "metadata": {},
   "source": [
    "To fully characterise a random variable:\n",
    "- all possible outcomes\n",
    "- The probability of hitting a particular outcome"
   ]
  },
  {
   "cell_type": "markdown",
   "metadata": {},
   "source": [
    "A probability mass function (pmf) for a discrete random variable, x, is a function that describes the relative probability that X takes each of its possible values. Usually denoted by $f_{x}(x)$."
   ]
  },
  {
   "cell_type": "markdown",
   "metadata": {},
   "source": [
    "A probability density function (pdf) for a continuous random variable X is a function that describes the relative probability that X takes each value in the range of possible values."
   ]
  },
  {
   "cell_type": "markdown",
   "metadata": {},
   "source": [
    "Some discrete random variables:"
   ]
  },
  {
   "cell_type": "markdown",
   "metadata": {},
   "source": [
    "Bernoulli\n",
    "- Binary outcome: success(1) or failure(0)\n",
    "- One parameter, p, probability of success"
   ]
  },
  {
   "cell_type": "markdown",
   "metadata": {},
   "source": [
    "Binomial \n",
    "- Sum of n independent and identically distributed Bernoulli r.v.\n",
    "- Takes values on {0,1,2,...,n}\n",
    "- Two parameters, n (number of independent Bernoulli trials), p (probability of success)"
   ]
  },
  {
   "cell_type": "markdown",
   "metadata": {},
   "source": [
    "Poisson\n",
    "- Number of events occurring in a fixed interval of time\n",
    "- Possible outcomes {0,1,2,3,...}, all non-negative integers\n",
    "- Used to count number of events (e.g. infection cases per day)\n",
    "- One parameter: $\\lambda > 0$. Rate of events happening\n",
    "\\begin{equation}\n",
    "f_{x}(x) = \\frac{\\lambda^{x}e^{-\\lambda}}{x!}\n",
    "\\end{equation}\n",
    "- $X$~$Poisson(\\lambda)$"
   ]
  },
  {
   "cell_type": "markdown",
   "metadata": {},
   "source": [
    "Some common continuous r.v:"
   ]
  },
  {
   "cell_type": "markdown",
   "metadata": {},
   "source": [
    "Uniform\n",
    "- Two parameters, a (starting point), b (ending point)"
   ]
  },
  {
   "cell_type": "markdown",
   "metadata": {},
   "source": [
    "Exponential\n",
    "- Time between events (recall poisson)\n",
    "- Support: [0:$\\infty$]\n",
    "- $\\lambda$: the rate parameter"
   ]
  },
  {
   "cell_type": "markdown",
   "metadata": {},
   "source": [
    "Normal\n",
    "- Most famous\n",
    "- Takes values over the real number line\n",
    "- Two parameters: $\\mu, \\sigma^{2}$"
   ]
  },
  {
   "cell_type": "markdown",
   "metadata": {},
   "source": [
    "Properties of pmf/pdf\n",
    "- Always above the x-axis (non-negative probability)\n",
    "- Discrete case: sum of all the probability mass (bars) = 1\n",
    "- Continuous case: Area under the curve = 1"
   ]
  },
  {
   "cell_type": "markdown",
   "metadata": {},
   "source": []
  },
  {
   "cell_type": "markdown",
   "metadata": {},
   "source": []
  },
  {
   "cell_type": "markdown",
   "metadata": {},
   "source": []
  },
  {
   "cell_type": "code",
   "execution_count": null,
   "metadata": {},
   "outputs": [],
   "source": []
  },
  {
   "cell_type": "code",
   "execution_count": null,
   "metadata": {},
   "outputs": [],
   "source": []
  }
 ],
 "metadata": {
  "kernelspec": {
   "display_name": "R",
   "language": "R",
   "name": "ir"
  },
  "language_info": {
   "codemirror_mode": "r",
   "file_extension": ".r",
   "mimetype": "text/x-r-source",
   "name": "R",
   "pygments_lexer": "r",
   "version": "3.2.3"
  }
 },
 "nbformat": 4,
 "nbformat_minor": 2
}
