{
 "cells": [
  {
   "cell_type": "markdown",
   "metadata": {},
   "source": [
    "# Answer to Joe's question --- Part II"
   ]
  },
  {
   "cell_type": "markdown",
   "metadata": {},
   "source": [
    "Character data---most often DNA or other sequence data---is typically stored in a textual format. For instance, NCBI database uses the FASTA format (https://en.wikipedia.org/wiki/FASTA_format). This means the data can be stored as `char` type and read by a C program. For now, we'll work with some hard-coded data in this format"
   ]
  },
  {
   "cell_type": "code",
   "execution_count": 1,
   "metadata": {},
   "outputs": [],
   "source": [
    "int num_taxa = 5;\n",
    "int num_sites = 5; // The number of DNA sites in the data matrix;\n",
    "char rawalignment[] = \"TTTAA\" \n",
    "                      \"TTT-C\"\n",
    "                      \"T?TTC\"\n",
    "                      \"TT--A\"\n",
    "                      \"TGTTG\";\n",
    "// Note: in C++ the above is a single string. I've broken the lines to show the \"shape\" of\n",
    "// the data matrix: 5 characters (sites) by 5 taxa (tips)."
   ]
  },
  {
   "cell_type": "markdown",
   "metadata": {},
   "source": [
    "As we saw in the lectures, we can create a function that sets a definition for our inputs. In this case, if we want to use DNA characters, we can define the following function:"
   ]
  },
  {
   "cell_type": "code",
   "execution_count": 2,
   "metadata": {},
   "outputs": [],
   "source": [
    "#include <limits.h>\n",
    "#include <iostream>\n",
    "\n",
    "char char2DNAbase(const char c)\n",
    "{\n",
    "    if (c == 'A' || c == 'a') {\n",
    "        return (char)1;\n",
    "    }\n",
    "    else if (c == 'C' || c == 'c') {\n",
    "        return (char)1 << 1;\n",
    "    }\n",
    "    else if (c == 'G' || c == 'g') {\n",
    "        return (char)1 << 2;\n",
    "    }\n",
    "    else if (c == 'T' || c == 't') {\n",
    "        return (char)1 << 3;\n",
    "    }\n",
    "    else if (c == '?' || c == '-') {\n",
    "        return CHAR_MAX; // In other words: 11111111\n",
    "    }\n",
    "    \n",
    "    return -1; // A nonsense value for an error check\n",
    "}"
   ]
  },
  {
   "cell_type": "markdown",
   "metadata": {},
   "source": [
    "We can now read this input and convert it to a bitwise representation."
   ]
  },
  {
   "cell_type": "code",
   "execution_count": 3,
   "metadata": {},
   "outputs": [],
   "source": [
    "// First we need storage for the matrix:\n",
    "char* matrix = NULL;\n",
    "matrix = (char*)calloc(num_sites * num_taxa, sizeof(char));\n",
    "\n",
    "if (matrix == NULL) {\n",
    "    exit(EXIT_FAILURE); // Kill program if the calloc failed.\n",
    "}\n",
    "// I'm storing the data in a 'char' type because there are only 4 bases of DNA but 8 bits in a char.\n",
    "\n",
    "// Loop over the whole matrix and convert it to out bitwise convention defined in char2DNAbase()\n",
    "int i = 0;\n",
    "for (i = 0; i < (num_taxa * num_sites); ++i) {\n",
    "    matrix[i] = char2DNAbase(rawalignment[i]);\n",
    "}"
   ]
  },
  {
   "cell_type": "markdown",
   "metadata": {},
   "source": [
    "It's worth making a digression here to think about matrices in C. It is possible to define a matrix in C if the dimensions are compile-time constants:\n",
    "\n",
    "`int intMatrix[5][10];`\n",
    "\n",
    "You can get and set any position in this array by subscripting as you would an array:\n",
    "\n",
    "`intMatrix[1][4] // refers to the data in the second row and the fifth column`\n",
    "\n",
    "However, the storage of a matrix in C/C++ is just a linear array. The matrix notation is just 'syntactic sugar'. For more flexible matrices, it helps to use functions to simplify getting and setting values being read as a matrix. For instance:"
   ]
  },
  {
   "cell_type": "code",
   "execution_count": 4,
   "metadata": {},
   "outputs": [],
   "source": [
    "char get_from_data_matrix(char* mat, int i, int j, int width)\n",
    "{\n",
    "    return mat[j * width + i];\n",
    "}"
   ]
  },
  {
   "cell_type": "code",
   "execution_count": 5,
   "metadata": {},
   "outputs": [],
   "source": [
    "void set_in_data_matrix(char indata, char* mat, int i, int j, int width)\n",
    "{\n",
    "    mat[j * width + i] = indata;\n",
    "}"
   ]
  },
  {
   "cell_type": "code",
   "execution_count": 6,
   "metadata": {},
   "outputs": [
    {
     "name": "stdout",
     "output_type": "stream",
     "text": [
      "8\t8\t8\t1\t1\t\n",
      "8\t8\t8\t127\t2\t\n",
      "8\t127\t8\t8\t2\t\n",
      "8\t8\t127\t127\t1\t\n",
      "8\t4\t8\t8\t4\t\n"
     ]
    }
   ],
   "source": [
    "// This code snippet simply serves to verify that these getter/setter functions should work\n",
    "int j = 0;\n",
    "for (j = 0; j < num_taxa; ++j) {\n",
    "    for (i = 0; i < num_sites; ++i) {\n",
    "        // Cast it as an int as the binary might not correspond to an ASCII character\n",
    "        int x = (int)get_from_data_matrix(matrix, i, j, num_sites);\n",
    "        std::cout << x << \"\\t\";\n",
    "    }\n",
    "    std::cout << std::endl;\n",
    "}"
   ]
  },
  {
   "cell_type": "markdown",
   "metadata": {},
   "source": [
    "If you compare the output above to the matrix, you should be able to check if this is accurate (an easy way to check is figure out what '127' is in binary and compare that to our `char2DNAbase()` function)..."
   ]
  },
  {
   "cell_type": "markdown",
   "metadata": {},
   "source": [
    "The following syntax:\n",
    "\n",
    "`int amatrix[3][5];`\n",
    "\n",
    "is not an array of three-by-five. Instead, it should be read as an array of size three of arrays of size 5. In other words:\n",
    "\n",
    "`amatrix == { {_,_,_,_,_}, {_,_,_,_,_}, {_,_,_,_,_} };`    \n",
    "\n",
    "This is something like a pointer to pointers in terms of C/C++ syntax (eek!). This lets us employ a dirty trick."
   ]
  },
  {
   "cell_type": "code",
   "execution_count": 7,
   "metadata": {},
   "outputs": [],
   "source": [
    "char **nodeData = NULL; // This is our big matrix for all nodal sets in our tree\n",
    "\n",
    "// Notice below we are using 2 * num_taxa -1 so that we can also store results for calculations on the internal nodes\n",
    "nodeData = (char**)calloc(2*num_taxa - 1, sizeof(char*)); // Allocate the pointers to the rows of data\n",
    "\n",
    "// We can now think of nodeData as something like an array of arrays (really, it's a block of memory for pointers\n",
    "// to blocks of pointers to char). That means we can loop over each element in nodeData and point it at a new block\n",
    "// of memory corresponding to the width of our matrix:\n",
    "for (i = 0; i < 2 * num_taxa - 1; ++i) {\n",
    "    nodeData[i] = (char*)calloc(num_sites, sizeof(char));\n",
    "}"
   ]
  },
  {
   "cell_type": "markdown",
   "metadata": {},
   "source": [
    "Because the C/C++ compiler allows a lot of interchange between pointer and array syntax, we can cheat a little and index into nodeData as though it were a 2-dimensional array (i.e. a matrix):"
   ]
  },
  {
   "cell_type": "code",
   "execution_count": 8,
   "metadata": {},
   "outputs": [
    {
     "name": "stdout",
     "output_type": "stream",
     "text": [
      "The value at 3 and 5: 99\n"
     ]
    }
   ],
   "source": [
    "// Set a value in node data: \n",
    "nodeData[3][5] = 99;\n",
    "\n",
    "// Read out the same value:\n",
    "std::cout << \"The value at 3 and 5: \" << (int)nodeData[3][5] << std::endl;"
   ]
  },
  {
   "cell_type": "code",
   "execution_count": 9,
   "metadata": {},
   "outputs": [
    {
     "name": "stdout",
     "output_type": "stream",
     "text": [
      "The value at 3 and 5: 99\n"
     ]
    }
   ],
   "source": [
    "// This is technically the same as:\n",
    "std::cout << \"The value at 3 and 5: \" << (int) *(*(nodeData + 3) + 5) << std::endl;"
   ]
  },
  {
   "cell_type": "markdown",
   "metadata": {},
   "source": [
    "Now we have enough storage for all the tips and all the nodal sets. What we need to do now is write the data 'into' the cells for our tips. We do this just as we did earlier on a smaller example matrix:"
   ]
  },
  {
   "cell_type": "code",
   "execution_count": 10,
   "metadata": {},
   "outputs": [],
   "source": [
    "for (i = 0; i < num_taxa; ++i) {\n",
    "    int j = 0;\n",
    "    for (j = 0; j < num_sites; ++j) {\n",
    "        nodeData[i][j] = char2DNAbase(rawalignment[i * num_taxa + j]);\n",
    "    }\n",
    "}"
   ]
  },
  {
   "cell_type": "markdown",
   "metadata": {},
   "source": [
    "Once again, verify the output just for the sake of it:"
   ]
  },
  {
   "cell_type": "code",
   "execution_count": 11,
   "metadata": {},
   "outputs": [
    {
     "name": "stdout",
     "output_type": "stream",
     "text": [
      "8\t8\t8\t1\t1\t\n",
      "8\t8\t8\t127\t2\t\n",
      "8\t127\t8\t8\t2\t\n",
      "8\t8\t127\t127\t1\t\n",
      "8\t4\t8\t8\t4\t\n",
      "\n"
     ]
    }
   ],
   "source": [
    "for (i = 0; i < num_taxa; ++i) {\n",
    "    int j = 0;\n",
    "    for (j = 0; j < num_sites; ++j) {\n",
    "        std::cout << (int)nodeData[i][j] << \"\\t\";\n",
    "    }\n",
    "    std::cout << std::endl;\n",
    "}\n",
    "std::cout << std::endl;"
   ]
  },
  {
   "cell_type": "markdown",
   "metadata": {},
   "source": [
    "Now that we have a matrix and storage for all of our data, we can write a function that can perform ancestral states reconstructions. We just need to pass this function an index for each of the nodes in question:"
   ]
  },
  {
   "cell_type": "code",
   "execution_count": 12,
   "metadata": {},
   "outputs": [],
   "source": [
    "long unord_parsimony_downpass(long left, long right, long parent, char** data, long nchars)\n",
    "{\n",
    "    int i = 0;\n",
    "    int res = 0;\n",
    "    \n",
    "    for (i = 0; i < nchars; ++i) {\n",
    "        if (data[left][i] & data[right][i]) { // If any states in common between descendant sets...\n",
    "            data[parent][i] = data[left][i] & data[right][i]; // parent set is the intersection of sets (bitwise AND)\n",
    "        }\n",
    "        else {\n",
    "            data[parent][i] = data[left][i] | data[right][i]; // parent is the union of descendant sets (bitwise OR)\n",
    "            ++res; // Add a step to the tree\n",
    "        }\n",
    "    }\n",
    "    \n",
    "    return res; // Return the number of evolutionary steps implied at this node\n",
    "}"
   ]
  },
  {
   "cell_type": "markdown",
   "metadata": {},
   "source": [
    "Now, you could write this into your traversal function from Part I, but this isn't very flexible. Traversals are used a lot in tree-related algorithms and you might prefer to have only a single, general-purpose traversal function. The traversal function could write the postorder sequence of nodes into an array. Then, starting from the first internal node in postorder sequence, you could loop over the postorder sequence and apply the function above. We'll save that for Part III."
   ]
  }
 ],
 "metadata": {
  "kernelspec": {
   "display_name": "C++11",
   "language": "C++11",
   "name": "xeus-cling-cpp11"
  },
  "language_info": {
   "codemirror_mode": "text/x-c++src",
   "file_extension": ".cpp",
   "mimetype": "text/x-c++src",
   "name": "c++",
   "version": "-std=c++11"
  }
 },
 "nbformat": 4,
 "nbformat_minor": 2
}
