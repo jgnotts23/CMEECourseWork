{
 "cells": [
  {
   "cell_type": "markdown",
   "metadata": {},
   "source": [
    "# Answer to Joe's question --- Part III: Putting it all together"
   ]
  },
  {
   "cell_type": "code",
   "execution_count": 1,
   "metadata": {},
   "outputs": [],
   "source": [
    "#include <stdlib.h>\n",
    "#include <limits.h>\n",
    "#include <iostream>\n",
    "\n",
    "struct node {\n",
    "    struct node* left;\n",
    "    struct node* right;\n",
    "    struct node* parent;\n",
    "    long         tip; // Indicates node is a tip, also assigns a unique tip number\n",
    "    long         poIndex; // Index of node assigned in postorder\n",
    "    long         memIndex; // Denotes the position of the node within the tree's node array\n",
    "};\n",
    "\n",
    "typedef struct node Node; // \n",
    "\n",
    "struct tree {\n",
    "    long   numTips;  // Determined by input data at run-time.\n",
    "    long   numNodes; // Always at least 2*numTips - 1 for bifurcating trees.\n",
    "    Node*  nodes;    // We don't know how many nodes our tree will be at compile time, \n",
    "                     //so we are reserving a pointer that will point to a block of nodes once we know what we need\n",
    "    Node*  root;     // A helpful pointer that gives us a starting point for traversals on our tree\n",
    "};\n",
    "\n",
    "typedef struct tree Tree; // As with Node, we can now use Tree as a valid CXX data type"
   ]
  },
  {
   "cell_type": "code",
   "execution_count": 2,
   "metadata": {},
   "outputs": [],
   "source": [
    "char char2DNAbase(const char c)\n",
    "{\n",
    "    if (c == 'A' || c == 'a') {\n",
    "        return (char)1;\n",
    "    }\n",
    "    else if (c == 'C' || c == 'c') {\n",
    "        return (char)1 << 1;\n",
    "    }\n",
    "    else if (c == 'G' || c == 'g') {\n",
    "        return (char)1 << 2;\n",
    "    }\n",
    "    else if (c == 'T' || c == 't') {\n",
    "        return (char)1 << 3;\n",
    "    }\n",
    "    else if (c == '?' || c == '-') {\n",
    "        return CHAR_MAX; // In other words: 11111111\n",
    "    }\n",
    "    \n",
    "    return -1; // A nonsense value for an error check\n",
    "}"
   ]
  },
  {
   "cell_type": "code",
   "execution_count": 3,
   "metadata": {},
   "outputs": [],
   "source": [
    "long unord_parsimony_downpass(long left, long right, long parent, char** data, long nchars)\n",
    "{\n",
    "    int i = 0;\n",
    "    int res = 0;\n",
    "    \n",
    "    for (i = 0; i < nchars; ++i) {\n",
    "        if (data[left][i] & data[right][i]) { // If any states in common between descendant sets...\n",
    "            data[parent][i] = data[left][i] & data[right][i]; // parent set is the intersection of sets (bitwise AND)\n",
    "        }\n",
    "        else {\n",
    "            data[parent][i] = data[left][i] | data[right][i]; // parent is the union of descendant sets (bitwise OR)\n",
    "            ++res; // Add a step to the tree\n",
    "        }\n",
    "    }\n",
    "    \n",
    "    return res; // Return the number of evolutionary steps implied at this node\n",
    "}"
   ]
  },
  {
   "cell_type": "code",
   "execution_count": 4,
   "metadata": {},
   "outputs": [],
   "source": [
    "Tree* new_tree(int numTips)\n",
    "{\n",
    "    Tree* newTree = NULL;\n",
    "    \n",
    "    newTree = (Tree*)calloc(1, sizeof(Tree)); // Reserve a block of memory big enough for a tree struct, \n",
    "                                                // return a pointer to it so we know where that block lives\n",
    "    \n",
    "    // Always check returns from malloc or calloc\n",
    "    if (!newTree) { //Or: \"if (newTree = NULL)\"\n",
    "        exit(EXIT_FAILURE); // Crash the program deliberately to prevent anything stupid from happening.\n",
    "                            // There are more elegant things you can do, but that's a more advanced topic.\n",
    "    }\n",
    "    \n",
    "    // Now that that succeeded, let's set up the basic parameters of the tree:\n",
    "    newTree->numTips = numTips;\n",
    "    newTree->numNodes = 2 * numTips - 1;\n",
    "    \n",
    "    // Now we have enough information to allocate the block of nodes\n",
    "    newTree->nodes = (Node*)calloc(newTree->numNodes, sizeof(Node));\n",
    "    \n",
    "    if (!newTree->nodes) {\n",
    "        free(newTree); // Return the Tree memory to the system\n",
    "        exit(EXIT_FAILURE);\n",
    "    }\n",
    "    \n",
    "    // Let's set the memory indices in our nodes while we are at it, and number the tips\n",
    "    int i = 0;\n",
    "    for (i = 0; i < newTree->numNodes; ++i) {\n",
    "        newTree->nodes[i].memIndex = i;\n",
    "        if (i < numTips) {\n",
    "            newTree->nodes[i].tip = i + 1; // Remember: we want non-zero values for tips\n",
    "        }\n",
    "    }\n",
    "    \n",
    "    return newTree;\n",
    "}"
   ]
  },
  {
   "cell_type": "code",
   "execution_count": 5,
   "metadata": {},
   "outputs": [],
   "source": [
    "Tree* make_tree_from_table(long edgetable[], int numtaxa)\n",
    "{\n",
    "    // This function will build the tree from a given table.\n",
    "    \n",
    "    Tree* t = new_tree(numtaxa);\n",
    "     \n",
    "    int i = 0;\n",
    "    for (i = 0; i < (t->numNodes - 1); ++i) { // Notice we will finish before the end of the array\n",
    "        int index = edgetable[i];\n",
    "        t->nodes[i].parent = &t->nodes[index];\n",
    "    }\n",
    "    \n",
    "    // The last node in the array is the root, so we don't need to point it at anything\n",
    "    t->nodes[i].parent = NULL;\n",
    "    t->root = &t->nodes[i]; // Point to the root while we're at it.\n",
    "    \n",
    "    // Now we need some clever way to hook up the descendant pointers 'left' and 'right':\n",
    "    // We need only operate on the internal nodes for this:\n",
    "    \n",
    "    for (i = t->numTips; i < t->numNodes; ++i) {\n",
    "        \n",
    "        // Set up the left pointer by looking for the first index with i as its ancestor:\n",
    "        int j = 0;\n",
    "        while (edgetable[j] != i) {\n",
    "            ++j;\n",
    "        }\n",
    "        t->nodes[i].left = &t->nodes[j];\n",
    "        \n",
    "        ++j; // Increment j one more time to move it past the current index   \n",
    "       \n",
    "        // Set up the right pointer\n",
    "        while (edgetable[j] != i) {\n",
    "            ++j;\n",
    "        }\n",
    "    \n",
    "        t->nodes[i].right = &t->nodes[j];\n",
    "    }\n",
    "    \n",
    "    return t;\n",
    "}"
   ]
  },
  {
   "cell_type": "code",
   "execution_count": 6,
   "metadata": {},
   "outputs": [],
   "source": [
    "void postorder_internal(Node* n, Node** polist, int* index)\n",
    "{\n",
    "    if (n->tip) {\n",
    "        return;\n",
    "    }\n",
    "    \n",
    "    postorder_internal(n->left, polist, index);\n",
    "    postorder_internal(n->right, polist, index);\n",
    "    \n",
    "    polist[*index] = n;\n",
    "    (*index)++;\n",
    "    \n",
    "    // Some code to verify the output, but wouldn't normally be included:\n",
    "    std::cout << \"Node: \" << n->memIndex << \" index: \" << *index << std::endl;\n",
    "}"
   ]
  },
  {
   "cell_type": "code",
   "execution_count": 7,
   "metadata": {},
   "outputs": [],
   "source": [
    "int numtaxa = 5;\n",
    "long edgetable[] = {5, 6, 7, 6, 5, 8, 7, 8, -1}; // Same tree as Part I"
   ]
  },
  {
   "cell_type": "code",
   "execution_count": 8,
   "metadata": {},
   "outputs": [],
   "source": [
    "int num_sites = 5; // The number of DNA sites in the data matrix;\n",
    "char rawalignment[] = \"TTTAA\" \n",
    "                      \"TTT-C\"\n",
    "                      \"T?TTC\"\n",
    "                      \"TT--A\"\n",
    "                      \"TGTTG\";"
   ]
  },
  {
   "cell_type": "code",
   "execution_count": 9,
   "metadata": {},
   "outputs": [],
   "source": [
    "Tree* t = NULL;\n",
    "t = make_tree_from_table(edgetable, numtaxa);"
   ]
  },
  {
   "cell_type": "code",
   "execution_count": 10,
   "metadata": {},
   "outputs": [],
   "source": [
    "char **nodeData = NULL; // This is our big matrix for all nodal sets in our tree\n",
    "\n",
    "// Notice below we are using 2 * num_taxa -1 so that we can also store results for calculations on the internal nodes\n",
    "nodeData = (char**)calloc(2*numtaxa - 1, sizeof(char*)); // Allocate the pointers to the rows of data\n",
    "\n",
    "// We can now think of nodeData as something like an array of arrays (really, it's a block of memory for pointers\n",
    "// to blocks of pointers to char). That means we can loop over each element in nodeData and point it at a new block\n",
    "// of memory corresponding to the width of our matrix:\n",
    "int i = 0;\n",
    "\n",
    "for (i = 0; i < 2 * numtaxa - 1; ++i) {\n",
    "    nodeData[i] = (char*)calloc(num_sites, sizeof(char));\n",
    "}"
   ]
  },
  {
   "cell_type": "code",
   "execution_count": 11,
   "metadata": {},
   "outputs": [],
   "source": [
    "for (i = 0; i < numtaxa; ++i) {\n",
    "    int j = 0;\n",
    "    for (j = 0; j < num_sites; ++j) {\n",
    "        nodeData[i][j] = char2DNAbase(rawalignment[i * numtaxa + j]);\n",
    "    }\n",
    "}"
   ]
  },
  {
   "cell_type": "code",
   "execution_count": 12,
   "metadata": {},
   "outputs": [],
   "source": [
    "// Declare a pointer to storage for our postorder list of nodes\n",
    "Node** postorder = NULL;"
   ]
  },
  {
   "cell_type": "code",
   "execution_count": 13,
   "metadata": {},
   "outputs": [],
   "source": [
    "// Determine number of nodes:\n",
    "int num_nodes = 0;\n",
    "num_nodes = 2 * numtaxa - 1;"
   ]
  },
  {
   "cell_type": "code",
   "execution_count": 14,
   "metadata": {},
   "outputs": [],
   "source": [
    "// We only need internal nodes for our work so numtaxa-1 should be fine\n",
    "postorder = (Node**)calloc(numtaxa - 1, sizeof(Node*)); // This declares a block of node pointers.\n",
    "if (postorder == NULL) {\n",
    "    std::cout << \"Uh oh! Allocation failure!\" << std::endl;\n",
    "}"
   ]
  },
  {
   "cell_type": "code",
   "execution_count": 15,
   "metadata": {},
   "outputs": [
    {
     "name": "stdout",
     "output_type": "stream",
     "text": [
      "Node: 5 index: 1\n",
      "Node: 6 index: 2\n",
      "Node: 7 index: 3\n",
      "Node: 8 index: 4\n"
     ]
    }
   ],
   "source": [
    "// Let's traverse the tree!\n",
    "i = 0;\n",
    "postorder_internal(t->root, postorder, &i);"
   ]
  },
  {
   "cell_type": "code",
   "execution_count": 16,
   "metadata": {},
   "outputs": [
    {
     "name": "stdout",
     "output_type": "stream",
     "text": [
      "5 6 7 8 "
     ]
    }
   ],
   "source": [
    "for (i = 0; i < numtaxa-1; ++i) {\n",
    "    std::cout << postorder[i]->memIndex << \" \";\n",
    "}"
   ]
  },
  {
   "cell_type": "code",
   "execution_count": 17,
   "metadata": {},
   "outputs": [
    {
     "name": "stdout",
     "output_type": "stream",
     "text": [
      "The length of the tree is: 5\n"
     ]
    }
   ],
   "source": [
    "Node* n = NULL;\n",
    "\n",
    "// Assume here that nodes_in_postorder has been allocated and set by a traversal\n",
    "\n",
    "int len = 0; // Length of the tree\n",
    "\n",
    "for (i = 0; i < numtaxa - 1; ++i) {\n",
    "    n = postorder[i];\n",
    "    len += unord_parsimony_downpass(n->left->memIndex, n->right->memIndex, n->memIndex, nodeData, num_sites);\n",
    "}\n",
    "\n",
    "std::cout << \"The length of the tree is: \" << len << std::endl;"
   ]
  }
 ],
 "metadata": {
  "kernelspec": {
   "display_name": "C++11",
   "language": "C++11",
   "name": "xeus-cling-cpp11"
  },
  "language_info": {
   "codemirror_mode": "text/x-c++src",
   "file_extension": ".cpp",
   "mimetype": "text/x-c++src",
   "name": "c++",
   "version": "-std=c++11"
  }
 },
 "nbformat": 4,
 "nbformat_minor": 2
}
