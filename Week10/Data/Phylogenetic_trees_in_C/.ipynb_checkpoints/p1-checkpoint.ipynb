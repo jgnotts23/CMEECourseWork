{
 "cells": [
  {
   "cell_type": "markdown",
   "metadata": {},
   "source": [
    "# Joe's question about making and working with trees – Part I"
   ]
  },
  {
   "cell_type": "markdown",
   "metadata": {},
   "source": [
    "Hi Martin,\n",
    "\n",
    "Hope all is well. I was just wondering if you had some C code you could send me that creates a phylogenetic tree using structures and that uses bitwise operations when traversing them. I am struggling to get the workflow clear in my head and so it would be good to see a problem like this done properly.\n",
    "\n",
    "Many thanks,\n",
    "\n",
    "    Joe"
   ]
  },
  {
   "cell_type": "markdown",
   "metadata": {},
   "source": [
    "A simple binary node struct can be defined as follows:"
   ]
  },
  {
   "cell_type": "code",
   "execution_count": null,
   "metadata": {},
   "outputs": [],
   "source": [
    "struct node {\n",
    "    struct node* left;\n",
    "    struct node* right;\n",
    "    struct node* parent;\n",
    "    long         tip; // Indicates node is a tip, also assigns a unique tip number\n",
    "    long         poIndex; // Index of node assigned in postorder\n",
    "    long         memIndex; // Denotes the position of the node within the tree's node array\n",
    "};\n",
    "\n",
    "typedef struct node Node; // This declaration lets us use \"Node\" as a type of its own"
   ]
  },
  {
   "cell_type": "markdown",
   "metadata": {},
   "source": [
    "We need to define a tree structure that is helpful for storing all our data for the node:"
   ]
  },
  {
   "cell_type": "code",
   "execution_count": 2,
   "metadata": {},
   "outputs": [],
   "source": [
    "struct tree {\n",
    "    long   numTips;  // Determined by input data at run-time.\n",
    "    long   numNodes; // Always at least 2*numTips - 1 for bifurcating trees.\n",
    "    Node*  nodes;    // We don't know how many nodes our tree will be at compile time, \n",
    "                     //so we are reserving a pointer that will point to a block of nodes once we know what we need\n",
    "    Node*  root;     // A helpful pointer that gives us a starting point for traversals on our tree\n",
    "};\n",
    "\n",
    "typedef struct tree Tree; // As with Node, we can now use Tree as a valid CXX data type"
   ]
  },
  {
   "cell_type": "markdown",
   "metadata": {},
   "source": [
    "Now that we are given these definitions we can declare instances of these structs and join them into a tree (we will get to that in a bit). The given defintions above are a starting point for thinking about our program. Once we have definitions like these, we can think in a more concrete way about writing code that can work with them. For instance, we can now define a set of functions to traverse an entire tree."
   ]
  },
  {
   "cell_type": "code",
   "execution_count": 3,
   "metadata": {},
   "outputs": [],
   "source": [
    "/* A traversal can be defined like so if you only need to work on internal nodes: */\n",
    "\n",
    "void traverse_node(Node* n)\n",
    "{\n",
    "    if (n->tip) { // Remember, this is the short-hand for \n",
    "        return; // Because a tip is defined as having no descendants, proceeding any further in this function would\n",
    "                // result in a crash, because below we call the function recursively.\n",
    "    } \n",
    "    \n",
    "    traverse_node(n->left); // Go up the left side first\n",
    "    traverse_node(n->right); // Then go up the right. These can be done in any order, \n",
    "                             // And the result will be the same.\n",
    "    \n",
    "    /* Do some postorder work here */\n",
    "}"
   ]
  },
  {
   "cell_type": "markdown",
   "metadata": {},
   "source": [
    "A traversal can be defined another way that is also safe from dereferencing NULL pointers. The traversal defined below is useful if, for instance, you would like to perform operations both tips and internal nodes before returning."
   ]
  },
  {
   "cell_type": "code",
   "execution_count": 4,
   "metadata": {},
   "outputs": [],
   "source": [
    "void traversal_type_2(Node* n)\n",
    "{\n",
    "    if (!n->tip) {\n",
    "        traversal_type_2(n->left);\n",
    "        traversal_type_2(n->right);\n",
    "    }\n",
    "    \n",
    "    /* Do some postorder work here */\n",
    "}"
   ]
  },
  {
   "cell_type": "code",
   "execution_count": 5,
   "metadata": {},
   "outputs": [],
   "source": [
    "void traverse_tree(Tree* t)\n",
    "{\n",
    "    traverse_node(t->root);\n",
    "}"
   ]
  },
  {
   "cell_type": "code",
   "execution_count": 6,
   "metadata": {},
   "outputs": [],
   "source": [
    "void traverse_tree_type2(Tree* t)\n",
    "{\n",
    "    traversal_type_2(t->root);\n",
    "}"
   ]
  },
  {
   "cell_type": "markdown",
   "metadata": {},
   "source": [
    "How do we get a tree? This is considerably more complicated and theres a few ways we could do it. One way is to generate all possible trees or a random tree. Another (more likely possibility) is that the trees are being provided in some ***portable*** format. That is, we need some more primitive way of passing trees around."
   ]
  },
  {
   "cell_type": "markdown",
   "metadata": {},
   "source": [
    "## Getting started\n",
    "\n",
    "We need some functions that will generate an arbitrary amount of memory for us to be able to create a tree and reserve the right amount of memory."
   ]
  },
  {
   "cell_type": "code",
   "execution_count": 7,
   "metadata": {},
   "outputs": [],
   "source": [
    "// First, let's define functions to create our tree\n",
    "#include <stdlib.h>\n",
    "\n",
    "Tree* new_tree(int numTips)\n",
    "{\n",
    "    Tree* newTree = NULL;\n",
    "    \n",
    "    newTree = (Tree*)calloc(1, sizeof(Tree)); // Reserve a block of memory big enough for a tree struct, \n",
    "                                                // return a pointer to it so we know where that block lives\n",
    "    \n",
    "    // Always check returns from malloc or calloc\n",
    "    if (!newTree) { //Or: \"if (newTree = NULL)\"\n",
    "        exit(EXIT_FAILURE); // Crash the program deliberately to prevent anything stupid from happening.\n",
    "                            // There are more elegant things you can do, but that's a more advanced topic.\n",
    "    }\n",
    "    \n",
    "    // Now that that succeeded, let's set up the basic parameters of the tree:\n",
    "    newTree->numTips = numTips;\n",
    "    newTree->numNodes = 2 * numTips - 1;\n",
    "    \n",
    "    // Now we have enough information to allocate the block of nodes\n",
    "    newTree->nodes = (Node*)calloc(newTree->numNodes, sizeof(Node));\n",
    "    \n",
    "    if (!newTree->nodes) {\n",
    "        free(newTree); // Return the Tree memory to the system\n",
    "        exit(EXIT_FAILURE);\n",
    "    }\n",
    "    \n",
    "    // Let's set the memory indices in our nodes while we are at it, and number the tips\n",
    "    int i = 0;\n",
    "    for (i = 0; i < newTree->numNodes; ++i) {\n",
    "        newTree->nodes[i].memIndex = i;\n",
    "        if (i < numTips) {\n",
    "            newTree->nodes[i].tip = i + 1; // Remember: we want non-zero values for tips\n",
    "        }\n",
    "    }\n",
    "    \n",
    "    return newTree;\n",
    "}\n"
   ]
  },
  {
   "cell_type": "markdown",
   "metadata": {},
   "source": [
    "We should, of course, write a complementary destructor function for all this memory we've allocated. This helps us neatly clean things up when our program is done with this memory."
   ]
  },
  {
   "cell_type": "code",
   "execution_count": 8,
   "metadata": {},
   "outputs": [],
   "source": [
    "void delete_tree(Tree* t)\n",
    "{\n",
    "    // Remember to check pointers before freeing their data:\n",
    "    \n",
    "    if (t != NULL) {\n",
    "        \n",
    "        // We first free the block of memory for the nodes:\n",
    "        if (t->nodes != NULL) {\n",
    "            free(t->nodes);\n",
    "            t->nodes = NULL; // Just to be safe\n",
    "        }\n",
    "        \n",
    "        // Then free the Tree struct data itself\n",
    "        free (t);\n",
    "    }\n",
    "}"
   ]
  },
  {
   "cell_type": "markdown",
   "metadata": {},
   "source": [
    "However, all we have right now is a Tree storing a pointer to a block of nodes. We need to get this linked up into a tree somehow."
   ]
  },
  {
   "cell_type": "markdown",
   "metadata": {},
   "source": [
    "# \"Portable\" tree formats\n",
    "\n",
    "Pointers to C data types are not portable to other programming environments, nor are they something you would store in a file and pass between programs, as is often the case. We generally need programs that will, for instance, help us generate data and another separate program for searching the trees and (sometimes) yet another program for viewing the tree and perhaps making it pretty for publication. To do this, we need some kind of simple storage for trees that can be passed between programs. There are a couple of ways we can do this.\n",
    "\n",
    "One popular format is the Newick string. Let's say we have the following tree:\n",
    "\n",
    "`\n",
    "0   4   2   1   3\n",
    " \\  /   \\   \\   /\n",
    "  5      \\   \\ /\n",
    "   \\      \\   6\n",
    "    \\      \\ /\n",
    "     \\      7\n",
    "      \\    /\n",
    "       \\  /\n",
    "        8\t\t`\n",
    "        \n",
    "The Newick format represent this tree in a series of nested brackets (terminated by a semicolon):\n",
    "\n",
    "`((0,4),(2,(1,3)));`\n",
    "\n",
    "Another possibility, using the arbitrarily defined node numbers is to store the tree as an array or \"edge table\". The internal nodes can be arbitrarily numbered, and each position in the array can be used to define the tree:\n",
    "\n",
    "`\n",
    "index:          0 1 2 3 4 5 6 7 8\n",
    "ancestor index: 5 6 7 6 5 8 7 8 -\n",
    "`\n",
    "\n",
    "As you can see, it would be easy to store a tree topology that could then be bassed between any languages you want, as long as those languages can interpret each others' character or integer data types. \n",
    "\n",
    "The \"table type\" is the easiest type to build a tree from using our tree structures:"
   ]
  },
  {
   "cell_type": "code",
   "execution_count": 9,
   "metadata": {},
   "outputs": [],
   "source": [
    "Tree* make_tree_from_table(void)\n",
    "{\n",
    "    // This function will build the tree from a given table, \n",
    "    \n",
    "    int numtaxa = 5;\n",
    "    long edgetable[] = {5, 6, 7, 6, 5, 8, 7, 8, -1}; // Let's use -1 as a 'nonsense' value to detect the root\n",
    "    \n",
    "    Tree* t = new_tree(numtaxa);\n",
    "     \n",
    "    \n",
    "    // Loop over each member of the edge table and node array in the tree, and point\n",
    "    // the node's ancestor pointer to a node with an index in the array corresponding\n",
    "    // to the value in the edge table.\n",
    "        \n",
    "    // Thus, for t->node[0] (the first node in the array, and our tip #1)\n",
    "    // we will set its parent pointer to the node at t->node[5]\n",
    "    \n",
    "    int i = 0;\n",
    "    for (i = 0; i < (t->numNodes - 1); ++i) { // Notice we will finish before the end of the array\n",
    "        int index = edgetable[i];\n",
    "        t->nodes[i].parent = &t->nodes[index];\n",
    "    }\n",
    "    \n",
    "    // The last node in the array is the root, so we don't need to point it at anything\n",
    "    t->nodes[i].parent = NULL;\n",
    "    t->root = &t->nodes[i]; // Point to the root while we're at it.\n",
    "    \n",
    "    // Now we need some clever way to hook up the descendant pointers 'left' and 'right':\n",
    "    // We need only operate on the internal nodes for this:\n",
    "    \n",
    "    for (i = t->numTips; i < t->numNodes; ++i) {\n",
    "        \n",
    "        // Set up the left pointer by looking for the first index with i as its ancestor:\n",
    "        int j = 0;\n",
    "        while (edgetable[j] != i) {\n",
    "            ++j;\n",
    "        }\n",
    "        t->nodes[i].left = &t->nodes[j];\n",
    "        \n",
    "        ++j; // Increment j one more time to move it past the current index   \n",
    "       \n",
    "        // Set up the right pointer\n",
    "        while (edgetable[j] != i) {\n",
    "            ++j;\n",
    "        }\n",
    "    \n",
    "        t->nodes[i].right = &t->nodes[j];\n",
    "    }\n",
    "    \n",
    "    return t;\n",
    "}"
   ]
  },
  {
   "cell_type": "code",
   "execution_count": 10,
   "metadata": {},
   "outputs": [],
   "source": [
    "// Input/output for C++ library is:\n",
    "#include <iostream> \n",
    "\n",
    "// C++ can link stdio.h as well, but iostream has nicer I/O functions\n",
    "\n",
    "void print_traversal(Node* n)\n",
    "{\n",
    "    // A silly function that verifies our tree:\n",
    "    \n",
    "    if (!n->tip) {\n",
    "        print_traversal(n->left);\n",
    "        print_traversal(n->right);\n",
    "        \n",
    "        // This is C++:\n",
    "        std::cout << \"Node: \" << n->memIndex << \" has descendants: \" << n->left->memIndex << \" and \" << n->right->memIndex << std::endl; // Note this is C++ string formatting\n",
    "    }   \n",
    "}"
   ]
  },
  {
   "cell_type": "code",
   "execution_count": 11,
   "metadata": {},
   "outputs": [
    {
     "name": "stdout",
     "output_type": "stream",
     "text": [
      "Node: 5 has descendants: 0 and 4\n",
      "Node: 6 has descendants: 1 and 3\n",
      "Node: 7 has descendants: 2 and 6\n",
      "Node: 8 has descendants: 5 and 7\n"
     ]
    }
   ],
   "source": [
    "Tree *t = make_tree_from_table();\n",
    "print_traversal(t->root);\n",
    "delete_tree(t);\n",
    "t = NULL;"
   ]
  },
  {
   "cell_type": "markdown",
   "metadata": {},
   "source": [
    "If you compare this output to our tree drawing above, you can see that it is in fact correct."
   ]
  },
  {
   "cell_type": "markdown",
   "metadata": {},
   "source": [
    "We can make our \"make tree from table\" function a bit more generalised:"
   ]
  },
  {
   "cell_type": "code",
   "execution_count": 12,
   "metadata": {},
   "outputs": [],
   "source": [
    "// Note: C++ allows function name overloading, unlike standard C: thus if we define a function\n",
    "// With the same name, but different parameters, the C++ compiler will figure this out for us\n",
    "\n",
    "Tree* make_tree_from_table(long edgetable[], int numtaxa)\n",
    "{\n",
    "    // This function will build the tree from a given table.\n",
    "    \n",
    "    Tree* t = new_tree(numtaxa);\n",
    "     \n",
    "    \n",
    "    // Loop over each member of the edge table and node array in the tree, and point\n",
    "    // the node's ancestor pointer to a node with an index in the array corresponding\n",
    "    // to the value in the edge table.\n",
    "        \n",
    "    // Thus, for t->node[0] (the first node in the array, and our tip #1)\n",
    "    // we will set its parent pointer to the node at t->node[5]\n",
    "    \n",
    "    int i = 0;\n",
    "    for (i = 0; i < (t->numNodes - 1); ++i) { // Notice we will finish before the end of the array\n",
    "        int index = edgetable[i];\n",
    "        t->nodes[i].parent = &t->nodes[index];\n",
    "    }\n",
    "    \n",
    "    // The last node in the array is the root, so we don't need to point it at anything\n",
    "    t->nodes[i].parent = NULL;\n",
    "    t->root = &t->nodes[i]; // Point to the root while we're at it.\n",
    "    \n",
    "    // Now we need some clever way to hook up the descendant pointers 'left' and 'right':\n",
    "    // We need only operate on the internal nodes for this:\n",
    "    \n",
    "    for (i = t->numTips; i < t->numNodes; ++i) {\n",
    "        \n",
    "        // Set up the left pointer by looking for the first index with i as its ancestor:\n",
    "        int j = 0;\n",
    "        while (edgetable[j] != i) {\n",
    "            ++j;\n",
    "        }\n",
    "        t->nodes[i].left = &t->nodes[j];\n",
    "        \n",
    "        ++j; // Increment j one more time to move it past the current index   \n",
    "       \n",
    "        // Set up the right pointer\n",
    "        while (edgetable[j] != i) {\n",
    "            ++j;\n",
    "        }\n",
    "    \n",
    "        t->nodes[i].right = &t->nodes[j];\n",
    "    }\n",
    "    \n",
    "    return t;\n",
    "}"
   ]
  },
  {
   "cell_type": "code",
   "execution_count": 13,
   "metadata": {},
   "outputs": [
    {
     "name": "stdout",
     "output_type": "stream",
     "text": [
      "Node: 5 has descendants: 0 and 4\n",
      "Node: 6 has descendants: 1 and 3\n",
      "Node: 7 has descendants: 2 and 6\n",
      "Node: 8 has descendants: 5 and 7\n"
     ]
    }
   ],
   "source": [
    "int numtaxa = 5;\n",
    "long edgetable[] = {5, 6, 7, 6, 5, 8, 7, 8, -1};\n",
    "\n",
    "t = make_tree_from_table(edgetable, numtaxa);\n",
    "print_traversal(t->root);\n",
    "delete_tree(t);\n",
    "t = NULL;"
   ]
  }
 ],
 "metadata": {
  "kernelspec": {
   "display_name": "C",
   "language": "c",
   "name": "c"
  },
  "language_info": {
   "codemirror_mode": "text/x-c++src",
   "file_extension": ".cpp",
   "mimetype": "text/x-c++src",
   "name": "c++",
   "version": "-std=c++11"
  }
 },
 "nbformat": 4,
 "nbformat_minor": 2
}
