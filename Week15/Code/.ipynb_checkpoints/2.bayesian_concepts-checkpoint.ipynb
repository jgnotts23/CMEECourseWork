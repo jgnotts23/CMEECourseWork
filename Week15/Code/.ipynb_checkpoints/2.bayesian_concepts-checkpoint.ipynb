{
 "cells": [
  {
   "cell_type": "markdown",
   "metadata": {},
   "source": [
    "# Part 2: Bayesian Concepts"
   ]
  },
  {
   "cell_type": "markdown",
   "metadata": {},
   "source": [
    "## Bayes' theorem"
   ]
  },
  {
   "cell_type": "markdown",
   "metadata": {},
   "source": [
    "If $Y$ is a random variable, then $f(y|\\theta)$ is a probability ditribution representing the sampling model for the observed data $y = (y_1, y_2, ..., y_n)$ given an unknown parameter, $\\theta$.\n",
    "The distribution $f(y|\\theta)$ is often called the *likelihood* and sometimes written as $L(\\theta; y)$.\n",
    "We know that $L(\\theta; y)$ is not a probability distribution for $\\theta$ given $y$. Therefore, $\\int L(\\theta;y) \\ d\\theta \\ \\ $ is not neccesarily equal to $1$ or even finite."
   ]
  },
  {
   "cell_type": "markdown",
   "metadata": {},
   "source": [
    "It is possible to find the value of $\\theta$ that maximises the likelihood function: *a maximum likelihood estimate* (MLE) for $\\theta$, as:\n",
    "\\begin{align}\n",
    "\\hat{\\theta} = argmax_{\\theta}L(\\theta;y)\n",
    "\\end{align}"
   ]
  },
  {
   "cell_type": "markdown",
   "metadata": {},
   "source": [
    "In Bayesian statistics, $\\theta$ is not a fixed (although unknown) parameter\n",
    "but a random quantity.\n",
    "\n",
    "This is done by adopting a probability distribution, called _prior distribution_, for ${\\theta}$ that contains any information we have about ${\\theta}$ not related to the data ${y}$."
   ]
  },
  {
   "cell_type": "markdown",
   "metadata": {},
   "source": [
    "Inferences on ${\\theta}$ are based on its _posterior distribution_ given by\n",
    "\\begin{equation}\n",
    "    P({\\theta}|{y}) = \\frac{f({y}|{\\theta})\\pi({\\theta})}{m({y})} \n",
    "                        = \\frac{f({y}|{\\theta})\\pi({\\theta})}{\\int f({y}|{\\theta}) \\pi({\\theta}) d{\\theta}}\n",
    "\\end{equation}\n",
    "\n",
    "This formula is known as _Bayes' Theorem_."
   ]
  },
  {
   "cell_type": "markdown",
   "metadata": {},
   "source": [
    "The posterior probability is simply the product of the likelihood and the prior,\n",
    "normalised so that integrates to $1$.\n",
    "The posterior distribution is therefore a proper (or legitimate) probability distribution.\n",
    "\n",
    "We will now prove this theorem using an example. One can even use Venn diagrams which are useful but not rigorous."
   ]
  },
  {
   "cell_type": "markdown",
   "metadata": {},
   "source": [
    "The greatest loss of vertebrate biodiversity we observed in the past 30 years is due to a chytrids fungus which is responsible for the extinction of over a hundred species of amphibians.\n",
    "Let's assume we have a sample space $S$ with all the possible outcomes of an experiment and we are interested in a subset of $S$, representing only some events.\n",
    "In our example we are interested in detecting which samples of frogs are infected or not by the fungus. \n",
    "During our fieldwork, we take some samples and test whether they are\n",
    "infected or not."
   ]
  },
  {
   "cell_type": "markdown",
   "metadata": {},
   "source": [
    "Let's consider $S$ to consist of all the samples collected in a particular area.\n",
    "\n",
    "We can split our $S$ in two events: the event \"samples with infection\"\n",
    "(designated as set $A$), and \"samples with no infection\" (complement of set $A$, or $A^c$).\n",
    "\n",
    "What is the probability that a randomly chosen sample is infected?"
   ]
  },
  {
   "cell_type": "markdown",
   "metadata": {},
   "source": [
    "It is the number of elements in $A$ divided by the number of elements of $S$.\n",
    "\n",
    "We can denote the number of elements of $A$ as $|A|$, called the cardinality of $A$.\n",
    "\n",
    "The probability of $A$, $P(A)$, is\n",
    "\\begin{equation}\n",
    "    P(A) = \\frac{|A|}{|S|}\n",
    "\\end{equation}\n",
    "with $0 \\leq P(A) \\leq 1$."
   ]
  },
  {
   "cell_type": "markdown",
   "metadata": {},
   "source": [
    "**Cardinality:** the number of elements in a set or other grouping, as a property of that grouping."
   ]
  },
  {
   "cell_type": "markdown",
   "metadata": {},
   "source": [
    "Assume that we use a molecular screening test which takes a biological sample (e.g. piece of skin) from a frog and tests for the presence of the fungus.\n",
    "The test will be \"positive\" for some samples, and \"negative\" for\n",
    "some other samples.\n",
    "\n",
    "Let's denote with event $B$ the collection of \"samples for which the test is positive\".\n",
    "\n",
    "What is the probability that the test will be \"positive\" for a randomly selected sample?"
   ]
  },
  {
   "cell_type": "markdown",
   "metadata": {},
   "source": []
  },
  {
   "cell_type": "markdown",
   "metadata": {},
   "source": []
  },
  {
   "cell_type": "markdown",
   "metadata": {},
   "source": []
  },
  {
   "cell_type": "code",
   "execution_count": null,
   "metadata": {},
   "outputs": [],
   "source": []
  },
  {
   "cell_type": "code",
   "execution_count": null,
   "metadata": {},
   "outputs": [],
   "source": []
  },
  {
   "cell_type": "code",
   "execution_count": null,
   "metadata": {},
   "outputs": [],
   "source": []
  },
  {
   "cell_type": "code",
   "execution_count": null,
   "metadata": {},
   "outputs": [],
   "source": []
  }
 ],
 "metadata": {
  "kernelspec": {
   "display_name": "R",
   "language": "R",
   "name": "ir"
  },
  "language_info": {
   "codemirror_mode": "r",
   "file_extension": ".r",
   "mimetype": "text/x-r-source",
   "name": "R",
   "pygments_lexer": "r",
   "version": "3.2.3"
  }
 },
 "nbformat": 4,
 "nbformat_minor": 2
}
