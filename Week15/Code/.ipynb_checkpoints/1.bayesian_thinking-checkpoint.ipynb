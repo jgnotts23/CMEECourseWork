{
 "cells": [
  {
   "cell_type": "markdown",
   "metadata": {},
   "source": [
    "# Part 1: Bayesian Thinking"
   ]
  },
  {
   "cell_type": "markdown",
   "metadata": {},
   "source": [
    "## The eyes and the brain"
   ]
  },
  {
   "cell_type": "markdown",
   "metadata": {},
   "source": [
    "<center> \"I've just seen the Loch Ness monster in Silwood!\" <center>"
   ]
  },
  {
   "cell_type": "markdown",
   "metadata": {},
   "source": [
    "What does this information tell you about the existence of Nessie? The classic frequentist, or likelihoodist, approach involves making inferences from observed data. In this case, it may lead to the conclusion that Nessie exists."
   ]
  },
  {
   "cell_type": "markdown",
   "metadata": {},
   "source": [
    "Let's denote $D$ (data) as the set of observations specifying whether I tell you that I saw Nessie ($D = 1$) or not ($D = 0$). $D$ is our *sample space*, the set of all possible outcomes of the experiment, and $D = {0,1}$. We want to make some inferences on the probability that Nessie exists. Let's denote this probability $N$."
   ]
  },
  {
   "cell_type": "markdown",
   "metadata": {},
   "source": [
    "We can define a likelihood function for $p(D|N)$. For instance, assuming that our observation is $D = 1$, we could set $p(D=1|N=0) = 0.01$ (probability Nessie *was* observed, given she *does not* exist) and $p(D=1|N=1)=0.90$ (probability Nessie *was* observed, given she *does* exist)."
   ]
  },
  {
   "cell_type": "markdown",
   "metadata": {},
   "source": [
    "Let's make is slightly more complicated and imagine several other people tell you they saw Nessie. Let's assume the above likelihood functions are valid for each observer $l$. Then the log-likelihood of $N=0$ is given by:"
   ]
  },
  {
   "cell_type": "markdown",
   "metadata": {},
   "source": [
    "\\begin{align}\n",
    "\\sum_{l=1}^{3} log(p(D=1|N=0)) = -6.91\n",
    "\\end{align}"
   ]
  },
  {
   "cell_type": "markdown",
   "metadata": {},
   "source": [
    "The take-home point here is that ML is driven solely by observations. However, in real life, we often use prior knowledge to help make decisions. This can be incorporated in statistics."
   ]
  },
  {
   "cell_type": "markdown",
   "metadata": {},
   "source": [
    "In this example, we may have an existing belief that Nessie does not exist. This 'belief' expresses the probability of Nessie existing $p(N)$, regardless of the data. Intuitively, we can see the probability of $N=1$ is somehow a joing product of the likelihood and the belief. Therefore, $p(N|D) \\ \\ \\propto \\ \\ p(D|N)p(N)$."
   ]
  },
  {
   "cell_type": "markdown",
   "metadata": {},
   "source": [
    "In statistics, the \"belief\" function (e.g. $p(N)$) is called _prior probability_ and\n",
    "the joint product of the likelihood ($p(D|N)$) and the prior ($p(N)$) is proportional to\n",
    "the _posterior probability_ ($p(N|D)$).\n",
    "\n",
    "The use of posterior probabilities for inferences is called **Bayesian statistics**."
   ]
  },
  {
   "cell_type": "markdown",
   "metadata": {},
   "source": [
    "* The _frequentist_ is based on imagining repeated sampling from a particular\n",
    " model, which defines the probability of the observed data, conditional on unknown parameters\n",
    "* The _likelihoodist_ uses the sampling model, as the frequentists, but all\n",
    " inferences are based on the observed data only\n",
    "* The _Bayesian_ requires a sampling model (the likelihood) and a prior distribution\n",
    "  on all unknown parameters. The prior and the likelihood are used to compute the\n",
    "  conditional distribution of the unknown parameters given the observed data"
   ]
  },
  {
   "cell_type": "markdown",
   "metadata": {},
   "source": [
    "To put it in a different perspective, assuming $D$ is the data and $\\theta$ is your unknown parameter, the frequentist approach conditions on parameters and integrates over the data, $p(D|\\theta)$.\n",
    "On the other hand, the Bayesian approach conditions on the data and integrates over the\n",
    "parameters, $p(\\theta|D)$."
   ]
  },
  {
   "cell_type": "code",
   "execution_count": null,
   "metadata": {},
   "outputs": [],
   "source": []
  },
  {
   "cell_type": "code",
   "execution_count": null,
   "metadata": {},
   "outputs": [],
   "source": []
  },
  {
   "cell_type": "code",
   "execution_count": null,
   "metadata": {},
   "outputs": [],
   "source": []
  },
  {
   "cell_type": "code",
   "execution_count": null,
   "metadata": {},
   "outputs": [],
   "source": []
  },
  {
   "cell_type": "code",
   "execution_count": null,
   "metadata": {},
   "outputs": [],
   "source": []
  }
 ],
 "metadata": {
  "kernelspec": {
   "display_name": "R",
   "language": "R",
   "name": "ir"
  },
  "language_info": {
   "codemirror_mode": "r",
   "file_extension": ".r",
   "mimetype": "text/x-r-source",
   "name": "R",
   "pygments_lexer": "r",
   "version": "3.2.3"
  }
 },
 "nbformat": 4,
 "nbformat_minor": 2
}
