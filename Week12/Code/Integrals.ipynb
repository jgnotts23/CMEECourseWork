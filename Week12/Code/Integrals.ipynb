{
 "cells": [
  {
   "cell_type": "markdown",
   "metadata": {},
   "source": [
    "# 3 Integrals"
   ]
  },
  {
   "cell_type": "markdown",
   "metadata": {},
   "source": [
    "## 3.1 Integral Calculus: Definite Integrals"
   ]
  },
  {
   "cell_type": "markdown",
   "metadata": {},
   "source": [
    "How do you determine the area, $A$, enclosed by a function $f(x)$ and the horizontal axis? It is simple if $f(x) = f_{0} = const$."
   ]
  },
  {
   "cell_type": "markdown",
   "metadata": {},
   "source": [
    "<img src=\"constant_area.png\" alt=\"title\" >\n",
    "\n",
    "<center>Figure 1: Area $A$ enclosed by the horizontal axis and a horizontal line.</center>"
   ]
  },
  {
   "cell_type": "markdown",
   "metadata": {},
   "source": [
    "If $f(x)$ is not constant, in general, you can divide the area $A$ into subareas $A_{v}$ between $x_{v-1}$ and $x_{v}$."
   ]
  },
  {
   "cell_type": "markdown",
   "metadata": {},
   "source": [
    "<img src=\"subareas.png\" alt=\"title\" >\n",
    "\n",
    "<center>Figure 2: Area enclosed by the function $f(x)$ and the horizontal axis.</center>"
   ]
  },
  {
   "cell_type": "markdown",
   "metadata": {},
   "source": [
    "Then the subarea, $A_{v}$, may be approximated by $A_{v} = f(\\varepsilon_{v})(x_{v} - x_{v-1})$ for $x_{v-1} < \\varepsilon_{v} < x_{v}$. There always exists an $\\varepsilon_{v}$ such that this is true."
   ]
  },
  {
   "cell_type": "markdown",
   "metadata": {},
   "source": [
    "We can then reconstruct the area $A$ as follows:"
   ]
  },
  {
   "cell_type": "markdown",
   "metadata": {},
   "source": [
    "\\begin{equation}\n",
    "A = \\sum_{v=1}^{N} = A_{v} = \\sum_{v=1}^{N}f(\\varepsilon_{v})\\underbrace{(x_{v} - x_{v-1})}_{\\Delta x}\n",
    "\\end{equation}"
   ]
  },
  {
   "cell_type": "markdown",
   "metadata": {},
   "source": [
    "This sum is called the *Riemann sum*. For instance, for $N = 3$ the sum becomes:"
   ]
  },
  {
   "cell_type": "markdown",
   "metadata": {},
   "source": [
    "\\begin{equation}\n",
    "A = f(\\varepsilon_{1})(x_{1} - x_{0}) + f(\\varepsilon_{2})(x_{2} - x_{1}) + f(\\varepsilon_{3})(x_{3} - x_{2})\n",
    "\\end{equation}"
   ]
  },
  {
   "cell_type": "markdown",
   "metadata": {},
   "source": [
    "However, if we only take a few terms, our approximation to the area will be poor. So we can take the limit of the Riemann sum, and hence the area $A$ will be computed precisely, and it will allow us to define the integral."
   ]
  },
  {
   "cell_type": "markdown",
   "metadata": {},
   "source": [
    "\\begin{equation}\n",
    "A = \n",
    "\\end{equation}"
   ]
  },
  {
   "cell_type": "markdown",
   "metadata": {},
   "source": []
  },
  {
   "cell_type": "markdown",
   "metadata": {},
   "source": []
  },
  {
   "cell_type": "code",
   "execution_count": null,
   "metadata": {},
   "outputs": [],
   "source": []
  },
  {
   "cell_type": "code",
   "execution_count": null,
   "metadata": {},
   "outputs": [],
   "source": []
  },
  {
   "cell_type": "code",
   "execution_count": null,
   "metadata": {},
   "outputs": [],
   "source": []
  }
 ],
 "metadata": {
  "kernelspec": {
   "display_name": "Python 3",
   "language": "python",
   "name": "python3"
  },
  "language_info": {
   "codemirror_mode": {
    "name": "ipython",
    "version": 3
   },
   "file_extension": ".py",
   "mimetype": "text/x-python",
   "name": "python",
   "nbconvert_exporter": "python",
   "pygments_lexer": "ipython3",
   "version": "3.5.2"
  }
 },
 "nbformat": 4,
 "nbformat_minor": 2
}
